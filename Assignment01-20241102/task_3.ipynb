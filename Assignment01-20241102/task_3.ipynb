{
 "cells": [
  {
   "cell_type": "code",
   "execution_count": 3,
   "id": "a94fc518-4a37-4682-8370-485e2de81a98",
   "metadata": {},
   "outputs": [],
   "source": [
    "\"\"\"\n",
    "Finding E[X]\n",
    "E[X] = Summation(i) xi . p(xi)\n",
    "Where xi represents the midpoint or value of each bin and p(xi) is the \n",
    "normalized histogram value (or probability) associated with each bin.\n",
    "\n",
    "To compute this, we need:\n",
    "The values or midpoints of each bin for p(X)\n",
    "The probability values p(xi) for each bin.\n",
    "\n",
    "Once we have this data, we can plug it into the formula and calculate E[X].\n",
    "\"\"\"\n",
    "import numpy as np \n",
    "import pandas as pd"
   ]
  },
  {
   "cell_type": "code",
   "execution_count": 4,
   "id": "61bd1acf-1bc6-47a8-ad34-87661801f4bf",
   "metadata": {},
   "outputs": [],
   "source": [
    "# For the first histogram\n",
    "Ex = 0"
   ]
  },
  {
   "cell_type": "code",
   "execution_count": 5,
   "id": "7005ab2f-bbb8-4801-b0fb-b6053f0077b9",
   "metadata": {},
   "outputs": [],
   "source": [
    "px = {0: 0.3, 1: 0.1, 2: 0.2, 3: 0, 4: 0.4, 5: 0}"
   ]
  },
  {
   "cell_type": "code",
   "execution_count": 6,
   "id": "bea55d65-997c-46b4-9a3c-f4d64a1a2101",
   "metadata": {},
   "outputs": [],
   "source": [
    "for xi, pxi in px.items():\n",
    "    Ex += xi * pxi"
   ]
  },
  {
   "cell_type": "code",
   "execution_count": 7,
   "id": "ec376eec-359b-4b61-8b33-bfdfdea703a6",
   "metadata": {},
   "outputs": [
    {
     "data": {
      "text/plain": [
       "2.1"
      ]
     },
     "execution_count": 7,
     "metadata": {},
     "output_type": "execute_result"
    }
   ],
   "source": [
    "Ex"
   ]
  },
  {
   "cell_type": "code",
   "execution_count": 10,
   "id": "e1c7b6b5-2f7d-46cc-a4f8-1de50380ce02",
   "metadata": {},
   "outputs": [],
   "source": [
    "cumulative_histogram = pd.DataFrame(list(px.items()), columns=[\"X\", \"Probability(X)\"])"
   ]
  },
  {
   "cell_type": "code",
   "execution_count": 14,
   "id": "831d4a6e-abb3-44f2-838b-be4fd9adbf9c",
   "metadata": {},
   "outputs": [],
   "source": [
    "cumulative_histogram.set_index(\"X\", inplace=True)"
   ]
  },
  {
   "cell_type": "code",
   "execution_count": 15,
   "id": "dd156f11-c872-4a7d-8462-6b4ed67b7341",
   "metadata": {},
   "outputs": [
    {
     "data": {
      "text/html": [
       "<div>\n",
       "<style scoped>\n",
       "    .dataframe tbody tr th:only-of-type {\n",
       "        vertical-align: middle;\n",
       "    }\n",
       "\n",
       "    .dataframe tbody tr th {\n",
       "        vertical-align: top;\n",
       "    }\n",
       "\n",
       "    .dataframe thead th {\n",
       "        text-align: right;\n",
       "    }\n",
       "</style>\n",
       "<table border=\"1\" class=\"dataframe\">\n",
       "  <thead>\n",
       "    <tr style=\"text-align: right;\">\n",
       "      <th></th>\n",
       "      <th>Probability(X)</th>\n",
       "    </tr>\n",
       "    <tr>\n",
       "      <th>X</th>\n",
       "      <th></th>\n",
       "    </tr>\n",
       "  </thead>\n",
       "  <tbody>\n",
       "    <tr>\n",
       "      <th>0</th>\n",
       "      <td>0.3</td>\n",
       "    </tr>\n",
       "    <tr>\n",
       "      <th>1</th>\n",
       "      <td>0.1</td>\n",
       "    </tr>\n",
       "    <tr>\n",
       "      <th>2</th>\n",
       "      <td>0.2</td>\n",
       "    </tr>\n",
       "    <tr>\n",
       "      <th>3</th>\n",
       "      <td>0.0</td>\n",
       "    </tr>\n",
       "    <tr>\n",
       "      <th>4</th>\n",
       "      <td>0.4</td>\n",
       "    </tr>\n",
       "    <tr>\n",
       "      <th>5</th>\n",
       "      <td>0.0</td>\n",
       "    </tr>\n",
       "  </tbody>\n",
       "</table>\n",
       "</div>"
      ],
      "text/plain": [
       "   Probability(X)\n",
       "X                \n",
       "0             0.3\n",
       "1             0.1\n",
       "2             0.2\n",
       "3             0.0\n",
       "4             0.4\n",
       "5             0.0"
      ]
     },
     "execution_count": 15,
     "metadata": {},
     "output_type": "execute_result"
    }
   ],
   "source": [
    "cumulative_histogram"
   ]
  },
  {
   "cell_type": "code",
   "execution_count": 16,
   "id": "b187a59c-9ae2-4f5a-a47c-98cff2cf32e8",
   "metadata": {},
   "outputs": [],
   "source": [
    "cumulative_histogram[\"Cumulative p(X)\"] = cumulative_histogram[\"Probability(X)\"].cumsum()"
   ]
  },
  {
   "cell_type": "code",
   "execution_count": 17,
   "id": "f805e0ab-52d8-4944-8156-ec9a96437957",
   "metadata": {},
   "outputs": [
    {
     "data": {
      "text/html": [
       "<div>\n",
       "<style scoped>\n",
       "    .dataframe tbody tr th:only-of-type {\n",
       "        vertical-align: middle;\n",
       "    }\n",
       "\n",
       "    .dataframe tbody tr th {\n",
       "        vertical-align: top;\n",
       "    }\n",
       "\n",
       "    .dataframe thead th {\n",
       "        text-align: right;\n",
       "    }\n",
       "</style>\n",
       "<table border=\"1\" class=\"dataframe\">\n",
       "  <thead>\n",
       "    <tr style=\"text-align: right;\">\n",
       "      <th></th>\n",
       "      <th>Probability(X)</th>\n",
       "      <th>Cumulative p(X)</th>\n",
       "    </tr>\n",
       "    <tr>\n",
       "      <th>X</th>\n",
       "      <th></th>\n",
       "      <th></th>\n",
       "    </tr>\n",
       "  </thead>\n",
       "  <tbody>\n",
       "    <tr>\n",
       "      <th>0</th>\n",
       "      <td>0.3</td>\n",
       "      <td>0.3</td>\n",
       "    </tr>\n",
       "    <tr>\n",
       "      <th>1</th>\n",
       "      <td>0.1</td>\n",
       "      <td>0.4</td>\n",
       "    </tr>\n",
       "    <tr>\n",
       "      <th>2</th>\n",
       "      <td>0.2</td>\n",
       "      <td>0.6</td>\n",
       "    </tr>\n",
       "    <tr>\n",
       "      <th>3</th>\n",
       "      <td>0.0</td>\n",
       "      <td>0.6</td>\n",
       "    </tr>\n",
       "    <tr>\n",
       "      <th>4</th>\n",
       "      <td>0.4</td>\n",
       "      <td>1.0</td>\n",
       "    </tr>\n",
       "    <tr>\n",
       "      <th>5</th>\n",
       "      <td>0.0</td>\n",
       "      <td>1.0</td>\n",
       "    </tr>\n",
       "  </tbody>\n",
       "</table>\n",
       "</div>"
      ],
      "text/plain": [
       "   Probability(X)  Cumulative p(X)\n",
       "X                                 \n",
       "0             0.3              0.3\n",
       "1             0.1              0.4\n",
       "2             0.2              0.6\n",
       "3             0.0              0.6\n",
       "4             0.4              1.0\n",
       "5             0.0              1.0"
      ]
     },
     "execution_count": 17,
     "metadata": {},
     "output_type": "execute_result"
    }
   ],
   "source": [
    "cumulative_histogram"
   ]
  },
  {
   "cell_type": "code",
   "execution_count": null,
   "id": "73c868a6-0b5b-4b2f-84a5-496ea955d67d",
   "metadata": {},
   "outputs": [],
   "source": []
  }
 ],
 "metadata": {
  "kernelspec": {
   "display_name": "Python 3 (ipykernel)",
   "language": "python",
   "name": "python3"
  },
  "language_info": {
   "codemirror_mode": {
    "name": "ipython",
    "version": 3
   },
   "file_extension": ".py",
   "mimetype": "text/x-python",
   "name": "python",
   "nbconvert_exporter": "python",
   "pygments_lexer": "ipython3",
   "version": "3.12.6"
  }
 },
 "nbformat": 4,
 "nbformat_minor": 5
}
