{
 "cells": [
  {
   "cell_type": "code",
   "execution_count": 1,
   "id": "29554ff2-a1a6-4ad6-b25c-920c6b557055",
   "metadata": {},
   "outputs": [],
   "source": [
    "import pickle\n",
    "import matplotlib.pyplot as plt\n",
    "from scipy.spatial import distance\n"
   ]
  },
  {
   "cell_type": "code",
   "execution_count": 2,
   "id": "8d60eddf-d06e-4014-90d2-3b0290c02399",
   "metadata": {},
   "outputs": [],
   "source": [
    "# Extracting data or images function\n",
    "def unpickle(file):\n",
    "    with open(file, 'rb') as fo:\n",
    "        dict = pickle.load(fo, encoding='bytes')\n",
    "    return dict"
   ]
  },
  {
   "cell_type": "code",
   "execution_count": 3,
   "id": "89614775-22e2-4c5b-8fff-a04cd30f5b03",
   "metadata": {},
   "outputs": [],
   "source": [
    "batch_1 = unpickle('data_batch_1')"
   ]
  },
  {
   "cell_type": "code",
   "execution_count": 4,
   "id": "ab886904-3e8b-4a24-b54d-fd974ee067d0",
   "metadata": {},
   "outputs": [
    {
     "data": {
      "text/plain": [
       "(10000, 3072)"
      ]
     },
     "execution_count": 4,
     "metadata": {},
     "output_type": "execute_result"
    }
   ],
   "source": [
    "images = batch_1[b'data']\n",
    "images.shape"
   ]
  },
  {
   "cell_type": "code",
   "execution_count": 5,
   "id": "89d26ce7-9261-42a9-adeb-90b014c88639",
   "metadata": {},
   "outputs": [],
   "source": [
    "images = batch_1[b'data']\n",
    "labels = batch_1[b'labels']"
   ]
  },
  {
   "cell_type": "code",
   "execution_count": 6,
   "id": "2eedd128-20f9-4774-aed5-2533af209532",
   "metadata": {},
   "outputs": [],
   "source": [
    "required_classes = {1: 'automobile', 4: 'deer', 8: 'ship'}\n",
    "required_images = {label: [] for label in required_classes.keys()}"
   ]
  },
  {
   "cell_type": "code",
   "execution_count": 7,
   "id": "fe9ab24a-5456-4728-80b6-afda2466fc1d",
   "metadata": {},
   "outputs": [],
   "source": [
    "for idx, label in enumerate(labels):\n",
    "    if label in required_classes and len(required_images[label]) < 30:\n",
    "        required_images[label].append(images[idx])\n",
    "    if all(len(imgs) == 30 for imgs in required_images.values()):\n",
    "        break"
   ]
  },
  {
   "cell_type": "code",
   "execution_count": 8,
   "id": "3d9a8e7d-f518-4ac0-97f1-7ab4417b21be",
   "metadata": {},
   "outputs": [
    {
     "name": "stdout",
     "output_type": "stream",
     "text": [
      "Collected 30 images for class 'automobile'\n",
      "Collected 30 images for class 'deer'\n",
      "Collected 30 images for class 'ship'\n"
     ]
    }
   ],
   "source": [
    "for label, imgs in required_images.items():\n",
    "    print(f\"Collected {len(imgs)} images for class '{required_classes[label]}'\")"
   ]
  },
  {
   "cell_type": "code",
   "execution_count": 9,
   "id": "01f26c5b-713a-4c49-85cd-ed886c46eff9",
   "metadata": {},
   "outputs": [
    {
     "data": {
      "text/plain": [
       "(10000, 3072)"
      ]
     },
     "execution_count": 9,
     "metadata": {},
     "output_type": "execute_result"
    }
   ],
   "source": [
    "images.shape # Shape of the images"
   ]
  },
  {
   "cell_type": "code",
   "execution_count": 10,
   "id": "03ec6bc9-d956-4b14-9d09-9e69728ab19a",
   "metadata": {},
   "outputs": [],
   "source": [
    "for idx, image in enumerate(required_images[1]):\n",
    "    required_images[1][idx] = image.reshape(3, 32, 32).transpose(1, 2, 0)\n",
    "\n",
    "for idx, image in enumerate(required_images[4]):\n",
    "    required_images[4][idx] = image.reshape(3, 32, 32).transpose(1, 2, 0)\n",
    "\n",
    "for idx, image in enumerate(required_images[8]):\n",
    "    required_images[8][idx] = image.reshape(3, 32, 32).transpose(1, 2, 0)"
   ]
  },
  {
   "cell_type": "code",
   "execution_count": 11,
   "id": "dab22297-ce58-4b9e-a83a-b906f82d1edb",
   "metadata": {},
   "outputs": [],
   "source": [
    "import numpy as np"
   ]
  },
  {
   "cell_type": "code",
   "execution_count": 12,
   "id": "65aff6bc-d0c5-4b75-9318-d826e31a8946",
   "metadata": {},
   "outputs": [],
   "source": [
    "def rgb_to_grayscale(image):\n",
    "    return np.mean(image, axis=2) # or axis = 3(rgb channel)"
   ]
  },
  {
   "cell_type": "code",
   "execution_count": 89,
   "id": "7201d568-3599-4197-8faa-1c7fc6c147f4",
   "metadata": {},
   "outputs": [
    {
     "data": {
      "text/plain": [
       "array([  0,  10,  20,  30,  40,  50,  60,  70,  80,  90, 100, 110, 120,\n",
       "       130, 140, 150, 160, 170, 180, 190, 200, 210, 220, 230, 240, 250])"
      ]
     },
     "execution_count": 89,
     "metadata": {},
     "output_type": "execute_result"
    }
   ],
   "source": [
    "bins = np.arange(0, 256, 10) # 51 (0, 5, 10, 15, 20....)\n",
    "bins"
   ]
  },
  {
   "cell_type": "code",
   "execution_count": 90,
   "id": "c3fc0cc6-1acd-4300-9df1-452d4bb20dd0",
   "metadata": {},
   "outputs": [],
   "source": [
    "def calculate_histograms(grayscale_images):\n",
    "    histograms = []\n",
    "    for image in grayscale_images:\n",
    "        histogram, _ = np.histogram(image.flatten(), bins=bins)\n",
    "        histograms.append(histogram)\n",
    "    return histograms"
   ]
  },
  {
   "cell_type": "code",
   "execution_count": 91,
   "id": "4c0bc6ea-7610-49ec-8de5-d83b5ab9c6ff",
   "metadata": {},
   "outputs": [],
   "source": [
    "grayscale_images = {label: [] for label in required_images.keys()}\n",
    "for item in required_images.keys(): # 1, 4, 8\n",
    "    for i in range(len(required_images[item])): # 30\n",
    "        grayscale_image = rgb_to_grayscale(required_images[item][i])\n",
    "        grayscale_images[item].append(grayscale_image)"
   ]
  },
  {
   "cell_type": "code",
   "execution_count": 92,
   "id": "fedd5d31-cf73-4af4-9bf5-8d7dce247a30",
   "metadata": {},
   "outputs": [],
   "source": [
    "histograms = {label: [] for label in required_images.keys()}\n",
    "for item in histograms.keys():\n",
    "    histograms[item] = calculate_histograms(grayscale_images[item])"
   ]
  },
  {
   "cell_type": "code",
   "execution_count": 93,
   "id": "45851084-a82b-4bc4-a55f-8958d7a4c90c",
   "metadata": {},
   "outputs": [
    {
     "data": {
      "text/plain": [
       "<matplotlib.image.AxesImage at 0x1413c82f0>"
      ]
     },
     "execution_count": 93,
     "metadata": {},
     "output_type": "execute_result"
    },
    {
     "data": {
      "image/png": "[encoded data removed]",
      "text/plain": [
       "<Figure size 640x480 with 1 Axes>"
      ]
     },
     "metadata": {},
     "output_type": "display_data"
    }
   ],
   "source": [
    "plt.imshow(grayscale_images[1][0], cmap='gray')"
   ]
  },
  {
   "cell_type": "code",
   "execution_count": 94,
   "id": "2d370bb2-92c4-4b2d-b569-6bfd5b94c340",
   "metadata": {},
   "outputs": [
    {
     "data": {
      "text/plain": [
       "(array([2., 6., 5., 4., 2., 1., 0., 2., 0., 0., 0., 1., 1., 1., 0., 0., 0.,\n",
       "        0., 0., 0., 0., 0., 0., 0., 0.]),\n",
       " array([  0.,  10.,  20.,  30.,  40.,  50.,  60.,  70.,  80.,  90., 100.,\n",
       "        110., 120., 130., 140., 150., 160., 170., 180., 190., 200., 210.,\n",
       "        220., 230., 240., 250.]),\n",
       " <BarContainer object of 25 artists>)"
      ]
     },
     "execution_count": 94,
     "metadata": {},
     "output_type": "execute_result"
    },
    {
     "data": {
      "image/png": "[encoded data removed]",
      "text/plain": [
       "<Figure size 1200x500 with 1 Axes>"
      ]
     },
     "metadata": {},
     "output_type": "display_data"
    }
   ],
   "source": [
    "first_image_histogram = histograms[1][0] \n",
    "plt.figure(figsize=(12, 5))\n",
    "plt.hist(first_image_histogram, bins=bins, edgecolor='black')"
   ]
  },
  {
   "cell_type": "code",
   "execution_count": 95,
   "id": "8744b06d-5ef0-4732-ac06-0135ab016dbf",
   "metadata": {},
   "outputs": [],
   "source": [
    "test_batch = unpickle('test_batch')\n",
    "labels = test_batch[b'labels']\n",
    "test_required_images = {label: [] for label in required_classes.keys()}"
   ]
  },
  {
   "cell_type": "code",
   "execution_count": 96,
   "id": "a70697cf-3cdc-41c9-80b8-b683baeaa515",
   "metadata": {},
   "outputs": [],
   "source": [
    "test_images = test_batch[b'data']\n",
    "\n",
    "for idx, label in enumerate(labels):\n",
    "    if label in required_classes and len(test_required_images[label]) < 10:\n",
    "        test_required_images[label].append(test_images[idx])\n",
    "    if all(len(imgs) == 10 for imgs in test_required_images.values()):\n",
    "        break"
   ]
  },
  {
   "cell_type": "code",
   "execution_count": 97,
   "id": "553e712f-4c5c-4387-8173-106314b64649",
   "metadata": {},
   "outputs": [],
   "source": [
    "for idx, image in enumerate(test_required_images[1]):\n",
    "    test_required_images[1][idx] = image.reshape(3, 32, 32).transpose(1, 2, 0)\n",
    "\n",
    "for idx, image in enumerate(test_required_images[4]):\n",
    "    test_required_images[4][idx] = image.reshape(3, 32, 32).transpose(1, 2, 0)\n",
    "\n",
    "for idx, image in enumerate(test_required_images[8]):\n",
    "    test_required_images[8][idx] = image.reshape(3, 32, 32).transpose(1, 2, 0)"
   ]
  },
  {
   "cell_type": "code",
   "execution_count": 98,
   "id": "e4f54f5d",
   "metadata": {},
   "outputs": [
    {
     "data": {
      "text/plain": [
       "<matplotlib.image.AxesImage at 0x14145a4b0>"
      ]
     },
     "execution_count": 98,
     "metadata": {},
     "output_type": "execute_result"
    },
    {
     "data": {
      "image/png": "[encoded data removed]",
      "text/plain": [
       "<Figure size 640x480 with 1 Axes>"
      ]
     },
     "metadata": {},
     "output_type": "display_data"
    }
   ],
   "source": [
    "plt.imshow(test_required_images[1][0])"
   ]
  },
  {
   "cell_type": "code",
   "execution_count": 99,
   "id": "cab782dd-2d2e-425f-ad29-8387424ca5e2",
   "metadata": {},
   "outputs": [],
   "source": [
    "test_grayscale_images = {label: [] for label in required_classes.keys()}\n",
    "\n",
    "for item in test_required_images.keys(): # 1, 4, 8\n",
    "    for i in range(len(test_required_images[item])): # 10\n",
    "        grayscale_image = rgb_to_grayscale(test_required_images[item][i])\n",
    "        test_grayscale_images[item].append(grayscale_image)"
   ]
  },
  {
   "cell_type": "code",
   "execution_count": 100,
   "id": "e1ec3436",
   "metadata": {},
   "outputs": [
    {
     "data": {
      "text/plain": [
       "<matplotlib.image.AxesImage at 0x1407b0470>"
      ]
     },
     "execution_count": 100,
     "metadata": {},
     "output_type": "execute_result"
    },
    {
     "data": {
      "image/png": "[encoded data removed]",
      "text/plain": [
       "<Figure size 640x480 with 1 Axes>"
      ]
     },
     "metadata": {},
     "output_type": "display_data"
    }
   ],
   "source": [
    "plt.imshow(test_grayscale_images[1][0], cmap='gray')"
   ]
  },
  {
   "cell_type": "code",
   "execution_count": 101,
   "id": "bafdb8b7-de83-4b24-bd61-b76acbfc7896",
   "metadata": {},
   "outputs": [],
   "source": [
    "test_histograms = {label: [] for label in required_classes.keys()}\n",
    "for item in test_histograms.keys():\n",
    "    test_histograms[item] = calculate_histograms(test_grayscale_images[item])\n"
   ]
  },
  {
   "cell_type": "code",
   "execution_count": 102,
   "id": "51551693-d29b-4b37-af28-d9724eb16d15",
   "metadata": {},
   "outputs": [
    {
     "data": {
      "text/plain": [
       "(array([ 3., 10.,  1.,  2.,  1.,  2.,  2.,  1.,  0.,  1.,  0.,  0.,  0.,\n",
       "         0.,  1.,  0.,  0.,  1.,  0.,  0.,  0.,  0.,  0.,  0.,  0.]),\n",
       " array([  0.,  10.,  20.,  30.,  40.,  50.,  60.,  70.,  80.,  90., 100.,\n",
       "        110., 120., 130., 140., 150., 160., 170., 180., 190., 200., 210.,\n",
       "        220., 230., 240., 250.]),\n",
       " <BarContainer object of 25 artists>)"
      ]
     },
     "execution_count": 102,
     "metadata": {},
     "output_type": "execute_result"
    },
    {
     "data": {
      "image/png": "[encoded data removed]",
      "text/plain": [
       "<Figure size 1200x500 with 1 Axes>"
      ]
     },
     "metadata": {},
     "output_type": "display_data"
    }
   ],
   "source": [
    "first_test_image_histogram = test_histograms[1][0] \n",
    "plt.figure(figsize=(12, 5))\n",
    "plt.hist(first_test_image_histogram, bins=bins, edgecolor='black')"
   ]
  },
  {
   "cell_type": "code",
   "execution_count": 103,
   "id": "1582fe6a-ec26-4dd1-980f-2ea043f03715",
   "metadata": {},
   "outputs": [
    {
     "name": "stdout",
     "output_type": "stream",
     "text": [
      "(90,)\n",
      "(90, 25)\n"
     ]
    }
   ],
   "source": [
    "train_histograms = []\n",
    "train_labels = []\n",
    "\n",
    "for label, histograms in histograms.items():\n",
    "    for histogram in histograms:\n",
    "        train_histograms.append(histogram)\n",
    "        train_labels.append(label)\n",
    "\n",
    "train_labels = np.array(train_labels)\n",
    "train_histograms = np.array(train_histograms)\n",
    "print(train_labels.shape)\n",
    "print(train_histograms.shape)"
   ]
  },
  {
   "cell_type": "code",
   "execution_count": 104,
   "id": "8e21ef38-a392-4887-bd2c-254e232fe833",
   "metadata": {},
   "outputs": [
    {
     "name": "stdout",
     "output_type": "stream",
     "text": [
      "(30,)\n",
      "(30, 25)\n"
     ]
    }
   ],
   "source": [
    "testing_histograms = []\n",
    "test_labels = []\n",
    "\n",
    "for label, histograms in test_histograms.items():\n",
    "    for histogram in histograms:\n",
    "        testing_histograms.append(histogram)\n",
    "        test_labels.append(label)\n",
    "\n",
    "test_labels = np.array(test_labels)\n",
    "testing_histograms = np.array(testing_histograms)\n",
    "print(test_labels.shape)\n",
    "print(testing_histograms.shape)"
   ]
  },
  {
   "cell_type": "code",
   "execution_count": 105,
   "id": "c0301958-9674-4482-bdd9-aa6060e256b8",
   "metadata": {},
   "outputs": [],
   "source": [
    "def classify_images(testing_histograms, train_histograms, train_labels):\n",
    "    predictions = []\n",
    "    for test_hist in testing_histograms:\n",
    "        dits = []\n",
    "\n",
    "        for train_hist in train_histograms:\n",
    "            d = distance.euclidean(test_hist, train_hist)\n",
    "            dits.append(d)\n",
    "        min_index = np.argmin(dits)\n",
    "\n",
    "        predicted_class = train_labels[min_index]\n",
    "        predictions.append(predicted_class)\n",
    "\n",
    "    return predictions"
   ]
  },
  {
   "cell_type": "code",
   "execution_count": 106,
   "id": "6e9bc656-7111-4116-9a54-d914465abcb7",
   "metadata": {},
   "outputs": [],
   "source": [
    "predictions = classify_images(testing_histograms, train_histograms, train_labels)"
   ]
  },
  {
   "cell_type": "code",
   "execution_count": 107,
   "id": "02833e01-44de-41e8-a5f9-102c3a92fd0a",
   "metadata": {},
   "outputs": [
    {
     "data": {
      "text/plain": [
       "0.6666666666666666"
      ]
     },
     "execution_count": 107,
     "metadata": {},
     "output_type": "execute_result"
    }
   ],
   "source": [
    "def calculate_accuracy(predicted_labels, true_labels):\n",
    "    correct_predictions = np.sum(predicted_labels == true_labels)\n",
    "    accuracy = correct_predictions / len(true_labels)\n",
    "    return accuracy\n",
    "\n",
    "calculate_accuracy(predictions, test_labels)"
   ]
  }
 ],
 "metadata": {
  "kernelspec": {
   "display_name": "Python 3",
   "language": "python",
   "name": "python3"
  },
  "language_info": {
   "codemirror_mode": {
    "name": "ipython",
    "version": 3
   },
   "file_extension": ".py",
   "mimetype": "text/x-python",
   "name": "python",
   "nbconvert_exporter": "python",
   "pygments_lexer": "ipython3",
   "version": "3.12.6"
  }
 },
 "nbformat": 4,
 "nbformat_minor": 5
}
