{
 "cells": [
  {
   "cell_type": "code",
   "execution_count": 24,
   "id": "29554ff2-a1a6-4ad6-b25c-920c6b557055",
   "metadata": {},
   "outputs": [],
   "source": [
    "import pickle\n",
    "import matplotlib.pyplot as plt"
   ]
  },
  {
   "cell_type": "code",
   "execution_count": 25,
   "id": "8d60eddf-d06e-4014-90d2-3b0290c02399",
   "metadata": {},
   "outputs": [],
   "source": [
    "# Extracting data or images function\n",
    "def unpickle(file):\n",
    "    with open(file, 'rb') as fo:\n",
    "        dict = pickle.load(fo, encoding='bytes')\n",
    "    return dict"
   ]
  },
  {
   "cell_type": "code",
   "execution_count": 26,
   "id": "89614775-22e2-4c5b-8fff-a04cd30f5b03",
   "metadata": {},
   "outputs": [],
   "source": [
    "batch_1 = unpickle('data_batch_1')"
   ]
  },
  {
   "cell_type": "code",
   "execution_count": 27,
   "id": "ab886904-3e8b-4a24-b54d-fd974ee067d0",
   "metadata": {},
   "outputs": [
    {
     "data": {
      "text/plain": [
       "(10000, 3072)"
      ]
     },
     "execution_count": 27,
     "metadata": {},
     "output_type": "execute_result"
    }
   ],
   "source": [
    "images = batch_1[b'data']\n",
    "images.shape"
   ]
  },
  {
   "cell_type": "code",
   "execution_count": 28,
   "id": "89d26ce7-9261-42a9-adeb-90b014c88639",
   "metadata": {},
   "outputs": [],
   "source": [
    "images = batch_1[b'data']\n",
    "labels = batch_1[b'labels']"
   ]
  },
  {
   "cell_type": "code",
   "execution_count": 29,
   "id": "2eedd128-20f9-4774-aed5-2533af209532",
   "metadata": {},
   "outputs": [],
   "source": [
    "required_classes = {1: 'automobile', 4: 'deer', 8: 'ship'}\n",
    "required_images = {label: [] for label in required_classes.keys()}"
   ]
  },
  {
   "cell_type": "code",
   "execution_count": 30,
   "id": "fe9ab24a-5456-4728-80b6-afda2466fc1d",
   "metadata": {},
   "outputs": [],
   "source": [
    "for idx, label in enumerate(labels):\n",
    "    if label in required_classes and len(required_images[label]) < 30:\n",
    "        required_images[label].append(images[idx])\n",
    "    if all(len(imgs) == 30 for imgs in required_images.values()):\n",
    "        break"
   ]
  },
  {
   "cell_type": "code",
   "execution_count": 31,
   "id": "3d9a8e7d-f518-4ac0-97f1-7ab4417b21be",
   "metadata": {},
   "outputs": [
    {
     "name": "stdout",
     "output_type": "stream",
     "text": [
      "Collected 30 images for class 'automobile'\n",
      "Collected 30 images for class 'deer'\n",
      "Collected 30 images for class 'ship'\n"
     ]
    }
   ],
   "source": [
    "for label, imgs in required_images.items():\n",
    "    print(f\"Collected {len(imgs)} images for class '{required_classes[label]}'\")"
   ]
  },
  {
   "cell_type": "code",
   "execution_count": 32,
   "id": "01f26c5b-713a-4c49-85cd-ed886c46eff9",
   "metadata": {},
   "outputs": [
    {
     "data": {
      "text/plain": [
       "(10000, 3072)"
      ]
     },
     "execution_count": 32,
     "metadata": {},
     "output_type": "execute_result"
    }
   ],
   "source": [
    "images.shape # Shape of the images"
   ]
  },
  {
   "cell_type": "code",
   "execution_count": 33,
   "id": "03ec6bc9-d956-4b14-9d09-9e69728ab19a",
   "metadata": {},
   "outputs": [],
   "source": [
    "for idx, image in enumerate(required_images[1]):\n",
    "    required_images[1][idx] = image.reshape(3, 32, 32).transpose(1, 2, 0)\n",
    "\n",
    "for idx, image in enumerate(required_images[4]):\n",
    "    required_images[4][idx] = image.reshape(3, 32, 32).transpose(1, 2, 0)\n",
    "\n",
    "for idx, image in enumerate(required_images[8]):\n",
    "    required_images[8][idx] = image.reshape(3, 32, 32).transpose(1, 2, 0)"
   ]
  },
  {
   "cell_type": "code",
   "execution_count": 34,
   "id": "dab22297-ce58-4b9e-a83a-b906f82d1edb",
   "metadata": {},
   "outputs": [],
   "source": [
    "import numpy as np"
   ]
  },
  {
   "cell_type": "code",
   "execution_count": 35,
   "id": "65aff6bc-d0c5-4b75-9318-d826e31a8946",
   "metadata": {},
   "outputs": [],
   "source": [
    "def rgb_to_grayscale(image):\n",
    "    return np.mean(image, axis=2) # or axis = 3(rgb channel)"
   ]
  },
  {
   "cell_type": "code",
   "execution_count": 36,
   "id": "7201d568-3599-4197-8faa-1c7fc6c147f4",
   "metadata": {},
   "outputs": [
    {
     "data": {
      "text/plain": [
       "array([  0,   5,  10,  15,  20,  25,  30,  35,  40,  45,  50,  55,  60,\n",
       "        65,  70,  75,  80,  85,  90,  95, 100, 105, 110, 115, 120, 125,\n",
       "       130, 135, 140, 145, 150, 155, 160, 165, 170, 175, 180, 185, 190,\n",
       "       195, 200, 205, 210, 215, 220, 225, 230, 235, 240, 245, 250, 255])"
      ]
     },
     "execution_count": 36,
     "metadata": {},
     "output_type": "execute_result"
    }
   ],
   "source": [
    "bins = np.arange(0, 256, 5) # 51 (0, 5, 10, 15, 20....)\n",
    "bins"
   ]
  },
  {
   "cell_type": "code",
   "execution_count": 37,
   "id": "c3fc0cc6-1acd-4300-9df1-452d4bb20dd0",
   "metadata": {},
   "outputs": [],
   "source": [
    "def calculate_histograms(grayscale_images):\n",
    "    histograms = np.zeros((len(grayscale_images), len(bins) - 1))\n",
    "    for i in range(len(grayscale_images)):\n",
    "        histogram, _ = np.histogram(grayscale_images[i], bins=bins)\n",
    "        histograms[i] = histogram\n",
    "    return list(histograms)"
   ]
  },
  {
   "cell_type": "code",
   "execution_count": 38,
   "id": "4c0bc6ea-7610-49ec-8de5-d83b5ab9c6ff",
   "metadata": {},
   "outputs": [],
   "source": [
    "grayscale_images = {label: [] for label in required_images.keys()}\n",
    "for item in required_images.keys(): # 1, 4, 8\n",
    "    for i in range(len(required_images[item])): # 30\n",
    "        grayscale_image = rgb_to_grayscale(required_images[item][i])\n",
    "        grayscale_images[item].append(grayscale_image)"
   ]
  },
  {
   "cell_type": "code",
   "execution_count": 39,
   "id": "fedd5d31-cf73-4af4-9bf5-8d7dce247a30",
   "metadata": {},
   "outputs": [],
   "source": [
    "histograms = {label: [] for label in required_images.keys()}\n",
    "for item in histograms.keys():\n",
    "    histograms[item] = calculate_histograms(grayscale_images[item])"
   ]
  },
  {
   "cell_type": "code",
   "execution_count": 44,
   "id": "45851084-a82b-4bc4-a55f-8958d7a4c90c",
   "metadata": {},
   "outputs": [
    {
     "data": {
      "text/plain": [
       "<matplotlib.image.AxesImage at 0x111f7f950>"
      ]
     },
     "execution_count": 44,
     "metadata": {},
     "output_type": "execute_result"
    },
    {
     "data": {
      "image/png": "[encoded data removed]",
      "text/plain": [
       "<Figure size 640x480 with 1 Axes>"
      ]
     },
     "metadata": {},
     "output_type": "display_data"
    }
   ],
   "source": [
    "plt.imshow(grayscale_images[1][0])"
   ]
  },
  {
   "cell_type": "code",
   "execution_count": 43,
   "id": "2d370bb2-92c4-4b2d-b569-6bfd5b94c340",
   "metadata": {},
   "outputs": [
    {
     "data": {
      "text/plain": [
       "<BarContainer object of 51 artists>"
      ]
     },
     "execution_count": 43,
     "metadata": {},
     "output_type": "execute_result"
    },
    {
     "data": {
      "image/png": "[encoded data removed]",
      "text/plain": [
       "<Figure size 1200x500 with 1 Axes>"
      ]
     },
     "metadata": {},
     "output_type": "display_data"
    }
   ],
   "source": [
    "# First image\n",
    "\n",
    "import matplotlib.pyplot as plt\n",
    "\n",
    "first_image_histogram = histograms[1][0] \n",
    "plt.figure(figsize=(12, 5))\n",
    "plt.bar(bins[:-1], first_image_histogram, width=np.diff(bins), edgecolor='black', alpha=0.7)"
   ]
  },
  {
   "cell_type": "code",
   "execution_count": 43,
   "id": "8744b06d-5ef0-4732-ac06-0135ab016dbf",
   "metadata": {},
   "outputs": [],
   "source": [
    "test_batch = unpickle('test_batch')\n",
    "test_required_images = {label: [] for label in required_classes.keys()}"
   ]
  },
  {
   "cell_type": "code",
   "execution_count": 44,
   "id": "a70697cf-3cdc-41c9-80b8-b683baeaa515",
   "metadata": {},
   "outputs": [],
   "source": [
    "test_images = test_batch[b'data']\n",
    "test_images = test_images.reshape(-1, 3, 32, 32).transpose(0, 2, 3, 1).astype(\"float\")\n",
    "for idx, label in enumerate(labels):\n",
    "    if label in required_classes and len(test_required_images[label]) < 10:\n",
    "        test_required_images[label].append(test_images[idx])\n",
    "    if all(len(imgs) == 10 for imgs in test_required_images.values()):\n",
    "        break"
   ]
  },
  {
   "cell_type": "code",
   "execution_count": 45,
   "id": "cab782dd-2d2e-425f-ad29-8387424ca5e2",
   "metadata": {},
   "outputs": [],
   "source": [
    "test_grayscale_images = {label: [] for label in required_classes.keys()}\n",
    "\n",
    "for item in test_required_images.keys(): # 1, 4, 8\n",
    "    for i in range(len(test_required_images[item])): # 10\n",
    "        grayscale_image = rgb_to_grayscale(test_required_images[item][i])\n",
    "        test_grayscale_images[item].append(grayscale_image)"
   ]
  },
  {
   "cell_type": "code",
   "execution_count": 46,
   "id": "bafdb8b7-de83-4b24-bd61-b76acbfc7896",
   "metadata": {},
   "outputs": [],
   "source": [
    "test_histograms = {label: [] for label in required_classes.keys()}\n",
    "for item in test_histograms.keys():\n",
    "    test_histograms[item] = calculate_histograms(test_grayscale_images[item])\n"
   ]
  },
  {
   "cell_type": "code",
   "execution_count": 47,
   "id": "51551693-d29b-4b37-af28-d9724eb16d15",
   "metadata": {},
   "outputs": [
    {
     "data": {
      "text/plain": [
       "<BarContainer object of 51 artists>"
      ]
     },
     "execution_count": 47,
     "metadata": {},
     "output_type": "execute_result"
    },
    {
     "data": {
      "image/png": "[encoded data removed]",
      "text/plain": [
       "<Figure size 1200x500 with 1 Axes>"
      ]
     },
     "metadata": {},
     "output_type": "display_data"
    }
   ],
   "source": [
    "first_test_image_histogram = test_histograms[1][0] \n",
    "plt.figure(figsize=(12, 5))\n",
    "plt.bar(bins[:-1], first_test_image_histogram, width=np.diff(bins), edgecolor='black', alpha=0.7)"
   ]
  },
  {
   "cell_type": "code",
   "execution_count": 48,
   "id": "8d4230e8-b73a-4f2c-832c-b926e30daa1e",
   "metadata": {},
   "outputs": [],
   "source": [
    "def euclidiean_distance(hist_a, hist_b):\n",
    "    return np.sqrt(np.sum((hist_a - hist_b)**2))"
   ]
  },
  {
   "cell_type": "code",
   "execution_count": 49,
   "id": "1582fe6a-ec26-4dd1-980f-2ea043f03715",
   "metadata": {},
   "outputs": [],
   "source": [
    "train_histograms = []\n",
    "train_labels = []\n",
    "\n",
    "for label, histograms in histograms.items():\n",
    "    for histogram in histograms:\n",
    "        train_histograms.append(histogram)\n",
    "        train_labels.append(label)\n",
    "\n",
    "train_labels = np.array(train_labels)\n",
    "train_histograms = np.array(train_histograms)"
   ]
  },
  {
   "cell_type": "code",
   "execution_count": 50,
   "id": "8e21ef38-a392-4887-bd2c-254e232fe833",
   "metadata": {},
   "outputs": [],
   "source": [
    "testing_histograms = []\n",
    "test_labels = []\n",
    "\n",
    "for label, histograms in test_histograms.items():\n",
    "    for histogram in histograms:\n",
    "        testing_histograms.append(histogram)\n",
    "        test_labels.append(label)\n",
    "\n",
    "test_labels = np.array(test_labels)\n",
    "testing_histograms = np.array(testing_histograms)"
   ]
  },
  {
   "cell_type": "code",
   "execution_count": 51,
   "id": "c0301958-9674-4482-bdd9-aa6060e256b8",
   "metadata": {},
   "outputs": [],
   "source": [
    "def classify_images(testing_histograms, train_histograms, train_labels):\n",
    "    predictions = []\n",
    "    for test_hist in testing_histograms:\n",
    "        distances = []\n",
    "\n",
    "        for train_hist in train_histograms:\n",
    "            distance = euclidiean_distance(test_hist, train_hist)\n",
    "            distances.append(distance)\n",
    "        min_index = np.argmin(distances)\n",
    "\n",
    "        predicted_class = train_labels[min_index]\n",
    "        predictions.append(predicted_class)\n",
    "\n",
    "    return predictions"
   ]
  },
  {
   "cell_type": "code",
   "execution_count": 52,
   "id": "6e9bc656-7111-4116-9a54-d914465abcb7",
   "metadata": {},
   "outputs": [],
   "source": [
    "predictions = classify_images(testing_histograms, train_histograms, train_labels)"
   ]
  },
  {
   "cell_type": "code",
   "execution_count": 53,
   "id": "02833e01-44de-41e8-a5f9-102c3a92fd0a",
   "metadata": {},
   "outputs": [
    {
     "data": {
      "text/plain": [
       "0.3333333333333333"
      ]
     },
     "execution_count": 53,
     "metadata": {},
     "output_type": "execute_result"
    }
   ],
   "source": [
    "def calculate_accuracy(predicted_labels, true_labels):\n",
    "    correct_predictions = np.sum(predicted_labels == true_labels)\n",
    "    accuracy = correct_predictions / len(true_labels)\n",
    "    return accuracy\n",
    "\n",
    "calculate_accuracy(predictions, test_labels)"
   ]
  },
  {
   "cell_type": "code",
   "execution_count": null,
   "id": "b9d120ec-e538-4d08-9fba-587a43997b09",
   "metadata": {},
   "outputs": [],
   "source": []
  },
  {
   "cell_type": "code",
   "execution_count": null,
   "id": "fa7c9f56-2559-4571-b9ad-543bf8277ef9",
   "metadata": {},
   "outputs": [],
   "source": []
  }
 ],
 "metadata": {
  "kernelspec": {
   "display_name": "Python 3 (ipykernel)",
   "language": "python",
   "name": "python3"
  },
  "language_info": {
   "codemirror_mode": {
    "name": "ipython",
    "version": 3
   },
   "file_extension": ".py",
   "mimetype": "text/x-python",
   "name": "python",
   "nbconvert_exporter": "python",
   "pygments_lexer": "ipython3",
   "version": "3.12.6"
  }
 },
 "nbformat": 4,
 "nbformat_minor": 5
}
